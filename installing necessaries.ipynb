{
 "cells": [
  {
   "cell_type": "code",
   "execution_count": 2,
   "id": "50713129",
   "metadata": {},
   "outputs": [],
   "source": [
    "import pandas as pd\n",
    "import numpy as np\n",
    "import seaborn as sns\n",
    "sns.set_style(\"darkgrid\")"
   ]
  },
  {
   "cell_type": "code",
   "execution_count": 3,
   "id": "93de0219",
   "metadata": {},
   "outputs": [],
   "source": [
    "inc_dat = pd.read_csv(\"income_emp.csv\")"
   ]
  },
  {
   "cell_type": "code",
   "execution_count": 4,
   "id": "b3312ffa",
   "metadata": {},
   "outputs": [
    {
     "data": {
      "text/html": [
       "<div>\n",
       "<style scoped>\n",
       "    .dataframe tbody tr th:only-of-type {\n",
       "        vertical-align: middle;\n",
       "    }\n",
       "\n",
       "    .dataframe tbody tr th {\n",
       "        vertical-align: top;\n",
       "    }\n",
       "\n",
       "    .dataframe thead th {\n",
       "        text-align: right;\n",
       "    }\n",
       "</style>\n",
       "<table border=\"1\" class=\"dataframe\">\n",
       "  <thead>\n",
       "    <tr style=\"text-align: right;\">\n",
       "      <th></th>\n",
       "      <th>name</th>\n",
       "      <th>age</th>\n",
       "      <th>sex</th>\n",
       "      <th>height</th>\n",
       "      <th>weight</th>\n",
       "      <th>income</th>\n",
       "    </tr>\n",
       "  </thead>\n",
       "  <tbody>\n",
       "    <tr>\n",
       "      <th>0</th>\n",
       "      <td>ade</td>\n",
       "      <td>23</td>\n",
       "      <td>m</td>\n",
       "      <td>1.1</td>\n",
       "      <td>47</td>\n",
       "      <td>15000</td>\n",
       "    </tr>\n",
       "    <tr>\n",
       "      <th>1</th>\n",
       "      <td>ide</td>\n",
       "      <td>13</td>\n",
       "      <td>m</td>\n",
       "      <td>2.8</td>\n",
       "      <td>72</td>\n",
       "      <td>75000</td>\n",
       "    </tr>\n",
       "    <tr>\n",
       "      <th>2</th>\n",
       "      <td>rde</td>\n",
       "      <td>33</td>\n",
       "      <td>m</td>\n",
       "      <td>1.8</td>\n",
       "      <td>97</td>\n",
       "      <td>25000</td>\n",
       "    </tr>\n",
       "    <tr>\n",
       "      <th>3</th>\n",
       "      <td>ede</td>\n",
       "      <td>25</td>\n",
       "      <td>m</td>\n",
       "      <td>1.9</td>\n",
       "      <td>79</td>\n",
       "      <td>95000</td>\n",
       "    </tr>\n",
       "    <tr>\n",
       "      <th>4</th>\n",
       "      <td>ode</td>\n",
       "      <td>43</td>\n",
       "      <td>m</td>\n",
       "      <td>1.8</td>\n",
       "      <td>78</td>\n",
       "      <td>25000</td>\n",
       "    </tr>\n",
       "    <tr>\n",
       "      <th>5</th>\n",
       "      <td>mde</td>\n",
       "      <td>55</td>\n",
       "      <td>m</td>\n",
       "      <td>1.7</td>\n",
       "      <td>87</td>\n",
       "      <td>45000</td>\n",
       "    </tr>\n",
       "    <tr>\n",
       "      <th>6</th>\n",
       "      <td>yde</td>\n",
       "      <td>73</td>\n",
       "      <td>m</td>\n",
       "      <td>1.8</td>\n",
       "      <td>89</td>\n",
       "      <td>5000</td>\n",
       "    </tr>\n",
       "    <tr>\n",
       "      <th>7</th>\n",
       "      <td>pde</td>\n",
       "      <td>32</td>\n",
       "      <td>m</td>\n",
       "      <td>1.3</td>\n",
       "      <td>45</td>\n",
       "      <td>29000</td>\n",
       "    </tr>\n",
       "    <tr>\n",
       "      <th>8</th>\n",
       "      <td>jde</td>\n",
       "      <td>49</td>\n",
       "      <td>m</td>\n",
       "      <td>2.1</td>\n",
       "      <td>92</td>\n",
       "      <td>22000</td>\n",
       "    </tr>\n",
       "  </tbody>\n",
       "</table>\n",
       "</div>"
      ],
      "text/plain": [
       "  name  age sex  height  weight  income\n",
       "0  ade   23   m     1.1      47   15000\n",
       "1  ide   13   m     2.8      72   75000\n",
       "2  rde   33   m     1.8      97   25000\n",
       "3  ede   25   m     1.9      79   95000\n",
       "4  ode   43   m     1.8      78   25000\n",
       "5  mde   55   m     1.7      87   45000\n",
       "6  yde   73   m     1.8      89    5000\n",
       "7  pde   32   m     1.3      45   29000\n",
       "8  jde   49   m     2.1      92   22000"
      ]
     },
     "execution_count": 4,
     "metadata": {},
     "output_type": "execute_result"
    }
   ],
   "source": [
    "inc_dat"
   ]
  },
  {
   "cell_type": "code",
   "execution_count": 5,
   "id": "299e4aef",
   "metadata": {},
   "outputs": [
    {
     "data": {
      "text/html": [
       "<div>\n",
       "<style scoped>\n",
       "    .dataframe tbody tr th:only-of-type {\n",
       "        vertical-align: middle;\n",
       "    }\n",
       "\n",
       "    .dataframe tbody tr th {\n",
       "        vertical-align: top;\n",
       "    }\n",
       "\n",
       "    .dataframe thead th {\n",
       "        text-align: right;\n",
       "    }\n",
       "</style>\n",
       "<table border=\"1\" class=\"dataframe\">\n",
       "  <thead>\n",
       "    <tr style=\"text-align: right;\">\n",
       "      <th></th>\n",
       "      <th>age</th>\n",
       "      <th>height</th>\n",
       "      <th>weight</th>\n",
       "      <th>income</th>\n",
       "    </tr>\n",
       "  </thead>\n",
       "  <tbody>\n",
       "    <tr>\n",
       "      <th>count</th>\n",
       "      <td>9.000000</td>\n",
       "      <td>9.000000</td>\n",
       "      <td>9.000000</td>\n",
       "      <td>9.000000</td>\n",
       "    </tr>\n",
       "    <tr>\n",
       "      <th>mean</th>\n",
       "      <td>38.444444</td>\n",
       "      <td>1.811111</td>\n",
       "      <td>76.222222</td>\n",
       "      <td>37333.333333</td>\n",
       "    </tr>\n",
       "    <tr>\n",
       "      <th>std</th>\n",
       "      <td>18.500751</td>\n",
       "      <td>0.480740</td>\n",
       "      <td>18.766844</td>\n",
       "      <td>29487.285396</td>\n",
       "    </tr>\n",
       "    <tr>\n",
       "      <th>min</th>\n",
       "      <td>13.000000</td>\n",
       "      <td>1.100000</td>\n",
       "      <td>45.000000</td>\n",
       "      <td>5000.000000</td>\n",
       "    </tr>\n",
       "    <tr>\n",
       "      <th>25%</th>\n",
       "      <td>25.000000</td>\n",
       "      <td>1.700000</td>\n",
       "      <td>72.000000</td>\n",
       "      <td>22000.000000</td>\n",
       "    </tr>\n",
       "    <tr>\n",
       "      <th>50%</th>\n",
       "      <td>33.000000</td>\n",
       "      <td>1.800000</td>\n",
       "      <td>79.000000</td>\n",
       "      <td>25000.000000</td>\n",
       "    </tr>\n",
       "    <tr>\n",
       "      <th>75%</th>\n",
       "      <td>49.000000</td>\n",
       "      <td>1.900000</td>\n",
       "      <td>89.000000</td>\n",
       "      <td>45000.000000</td>\n",
       "    </tr>\n",
       "    <tr>\n",
       "      <th>max</th>\n",
       "      <td>73.000000</td>\n",
       "      <td>2.800000</td>\n",
       "      <td>97.000000</td>\n",
       "      <td>95000.000000</td>\n",
       "    </tr>\n",
       "  </tbody>\n",
       "</table>\n",
       "</div>"
      ],
      "text/plain": [
       "             age    height     weight        income\n",
       "count   9.000000  9.000000   9.000000      9.000000\n",
       "mean   38.444444  1.811111  76.222222  37333.333333\n",
       "std    18.500751  0.480740  18.766844  29487.285396\n",
       "min    13.000000  1.100000  45.000000   5000.000000\n",
       "25%    25.000000  1.700000  72.000000  22000.000000\n",
       "50%    33.000000  1.800000  79.000000  25000.000000\n",
       "75%    49.000000  1.900000  89.000000  45000.000000\n",
       "max    73.000000  2.800000  97.000000  95000.000000"
      ]
     },
     "execution_count": 5,
     "metadata": {},
     "output_type": "execute_result"
    }
   ],
   "source": [
    "inc_dat.describe()"
   ]
  },
  {
   "cell_type": "code",
   "execution_count": 9,
   "id": "6658d236",
   "metadata": {},
   "outputs": [
    {
     "name": "stderr",
     "output_type": "stream",
     "text": [
      "C:\\Users\\Femi Bamiduro\\AppData\\Local\\Temp\\ipykernel_18636\\2761423309.py:1: UserWarning: \n",
      "\n",
      "`distplot` is a deprecated function and will be removed in seaborn v0.14.0.\n",
      "\n",
      "Please adapt your code to use either `displot` (a figure-level function with\n",
      "similar flexibility) or `histplot` (an axes-level function for histograms).\n",
      "\n",
      "For a guide to updating your code to use the new functions, please see\n",
      "https://gist.github.com/mwaskom/de44147ed2974457ad6372750bbe5751\n",
      "\n",
      "  sns.distplot(inc_dat.weight)\n"
     ]
    },
    {
     "data": {
      "text/plain": [
       "<Axes: xlabel='weight', ylabel='Density'>"
      ]
     },
     "execution_count": 9,
     "metadata": {},
     "output_type": "execute_result"
    },
    {
     "data": {
      "image/png": "[encoded data removed]",
      "text/plain": [
       "<Figure size 640x480 with 1 Axes>"
      ]
     },
     "metadata": {},
     "output_type": "display_data"
    }
   ],
   "source": [
    "sns.distplot(inc_dat.weight)"
   ]
  },
  {
   "cell_type": "code",
   "execution_count": 17,
   "id": "2d5e9309",
   "metadata": {},
   "outputs": [
    {
     "data": {
      "text/plain": [
       "<Axes: xlabel='age', ylabel='weight'>"
      ]
     },
     "execution_count": 17,
     "metadata": {},
     "output_type": "execute_result"
    },
    {
     "data": {
      "image/png": "[encoded data removed]",
      "text/plain": [
       "<Figure size 640x480 with 1 Axes>"
      ]
     },
     "metadata": {},
     "output_type": "display_data"
    }
   ],
   "source": [
    "sns.regplot(x = 'age', y='weight', data=inc_dat, line_kws={\"color\":\"green\"})"
   ]
  },
  {
   "cell_type": "code",
   "execution_count": null,
   "id": "3c8ebd7a",
   "metadata": {},
   "outputs": [],
   "source": []
  }
 ],
 "metadata": {
  "kernelspec": {
   "display_name": "Python 3 (ipykernel)",
   "language": "python",
   "name": "python3"
  },
  "language_info": {
   "codemirror_mode": {
    "name": "ipython",
    "version": 3
   },
   "file_extension": ".py",
   "mimetype": "text/x-python",
   "name": "python",
   "nbconvert_exporter": "python",
   "pygments_lexer": "ipython3",
   "version": "3.11.1"
  }
 },
 "nbformat": 4,
 "nbformat_minor": 5
}
