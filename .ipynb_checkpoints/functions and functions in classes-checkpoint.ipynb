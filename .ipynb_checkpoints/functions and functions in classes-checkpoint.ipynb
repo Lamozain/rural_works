{
 "cells": [
  {
   "cell_type": "code",
   "execution_count": 1,
   "id": "d5013384",
   "metadata": {},
   "outputs": [],
   "source": [
    "def trapper(a,b,c):\n",
    "    x = a + b + c\n",
    "    y = a - b - c\n",
    "    z= x/y\n",
    "    v = x + y + z\n",
    "    print('The trapped value is {}'.format(v))\n",
    "    return v"
   ]
  },
  {
   "cell_type": "code",
   "execution_count": 2,
   "id": "b28cc4a2",
   "metadata": {},
   "outputs": [
    {
     "name": "stdout",
     "output_type": "stream",
     "text": [
      "The trapped value is 0.5\n"
     ]
    }
   ],
   "source": [
    "trapped_value = trapper(1,2,3)"
   ]
  },
  {
   "cell_type": "code",
   "execution_count": 3,
   "id": "b8b0c002",
   "metadata": {},
   "outputs": [
    {
     "name": "stdout",
     "output_type": "stream",
     "text": [
      "5.5\n"
     ]
    }
   ],
   "source": [
    "print(trapped_value + 5)"
   ]
  },
  {
   "cell_type": "code",
   "execution_count": 4,
   "id": "65321dda",
   "metadata": {},
   "outputs": [
    {
     "name": "stdout",
     "output_type": "stream",
     "text": [
      "def trapper(a,b,c):\n",
      "    x = a + b + c\n",
      "    y = a - b - c\n",
      "    z= x/y\n",
      "    v = x + y + z\n",
      "    print('The trapped value is {}'.format(v))\n",
      "    return v\n",
      "trapped_value = trapper(1,2,3)\n",
      "print(trapped_value + 5)\n",
      "%history\n"
     ]
    }
   ],
   "source": [
    "%history"
   ]
  },
  {
   "cell_type": "code",
   "execution_count": null,
   "id": "aaf07e95",
   "metadata": {},
   "outputs": [],
   "source": []
  }
 ],
 "metadata": {
  "kernelspec": {
   "display_name": "Python 3 (ipykernel)",
   "language": "python",
   "name": "python3"
  },
  "language_info": {
   "codemirror_mode": {
    "name": "ipython",
    "version": 3
   },
   "file_extension": ".py",
   "mimetype": "text/x-python",
   "name": "python",
   "nbconvert_exporter": "python",
   "pygments_lexer": "ipython3",
   "version": "3.11.1"
  }
 },
 "nbformat": 4,
 "nbformat_minor": 5
}
