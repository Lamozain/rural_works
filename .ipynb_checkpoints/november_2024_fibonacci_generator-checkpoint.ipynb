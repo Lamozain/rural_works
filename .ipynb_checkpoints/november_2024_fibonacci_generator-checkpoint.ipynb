{
 "cells": [
  {
   "cell_type": "code",
   "execution_count": 1,
   "id": "fef5916e",
   "metadata": {},
   "outputs": [],
   "source": [
    "start_point = [0,1]"
   ]
  },
  {
   "cell_type": "code",
   "execution_count": 3,
   "id": "eab2b336",
   "metadata": {},
   "outputs": [
    {
     "data": {
      "text/plain": [
       "0"
      ]
     },
     "execution_count": 3,
     "metadata": {},
     "output_type": "execute_result"
    }
   ],
   "source": [
    "start_point[0]"
   ]
  },
  {
   "cell_type": "code",
   "execution_count": 4,
   "id": "e8e38f0c",
   "metadata": {},
   "outputs": [],
   "source": [
    "nn = start_point[-1] + start_point[-2]"
   ]
  },
  {
   "cell_type": "code",
   "execution_count": 5,
   "id": "ac1c7e2f",
   "metadata": {},
   "outputs": [
    {
     "data": {
      "text/plain": [
       "1"
      ]
     },
     "execution_count": 5,
     "metadata": {},
     "output_type": "execute_result"
    }
   ],
   "source": [
    "nn"
   ]
  },
  {
   "cell_type": "code",
   "execution_count": 6,
   "id": "144d4185",
   "metadata": {},
   "outputs": [],
   "source": [
    "start_point.append(nn)"
   ]
  },
  {
   "cell_type": "code",
   "execution_count": 7,
   "id": "cf82cd3c",
   "metadata": {},
   "outputs": [
    {
     "data": {
      "text/plain": [
       "[0, 1, 1]"
      ]
     },
     "execution_count": 7,
     "metadata": {},
     "output_type": "execute_result"
    }
   ],
   "source": [
    "start_point"
   ]
  },
  {
   "cell_type": "code",
   "execution_count": 8,
   "id": "256ff0ac",
   "metadata": {},
   "outputs": [],
   "source": [
    "for i in range(50):\n",
    "    nn = start_point[-1] + start_point[-2]\n",
    "    start_point.append(nn)"
   ]
  },
  {
   "cell_type": "code",
   "execution_count": 9,
   "id": "97935a7e",
   "metadata": {},
   "outputs": [
    {
     "data": {
      "text/plain": [
       "[0,\n",
       " 1,\n",
       " 1,\n",
       " 2,\n",
       " 3,\n",
       " 5,\n",
       " 8,\n",
       " 13,\n",
       " 21,\n",
       " 34,\n",
       " 55,\n",
       " 89,\n",
       " 144,\n",
       " 233,\n",
       " 377,\n",
       " 610,\n",
       " 987,\n",
       " 1597,\n",
       " 2584,\n",
       " 4181,\n",
       " 6765,\n",
       " 10946,\n",
       " 17711,\n",
       " 28657,\n",
       " 46368,\n",
       " 75025,\n",
       " 121393,\n",
       " 196418,\n",
       " 317811,\n",
       " 514229,\n",
       " 832040,\n",
       " 1346269,\n",
       " 2178309,\n",
       " 3524578,\n",
       " 5702887,\n",
       " 9227465,\n",
       " 14930352,\n",
       " 24157817,\n",
       " 39088169,\n",
       " 63245986,\n",
       " 102334155,\n",
       " 165580141,\n",
       " 267914296,\n",
       " 433494437,\n",
       " 701408733,\n",
       " 1134903170,\n",
       " 1836311903,\n",
       " 2971215073,\n",
       " 4807526976,\n",
       " 7778742049,\n",
       " 12586269025,\n",
       " 20365011074,\n",
       " 32951280099]"
      ]
     },
     "execution_count": 9,
     "metadata": {},
     "output_type": "execute_result"
    }
   ],
   "source": [
    "start_point"
   ]
  },
  {
   "cell_type": "code",
   "execution_count": 10,
   "id": "5aba676c",
   "metadata": {},
   "outputs": [
    {
     "name": "stdout",
     "output_type": "stream",
     "text": [
      "0 1 1 2 3 5 8 13 21 34 55 89 144 233 377 610 987 1597 2584 4181 6765 10946 17711 28657 46368 75025 121393 196418 317811 514229 832040 1346269 2178309 3524578 5702887 9227465 14930352 24157817 39088169 63245986 102334155 165580141 267914296 433494437 701408733 1134903170 1836311903 2971215073 4807526976 7778742049 12586269025 20365011074 32951280099\n"
     ]
    }
   ],
   "source": [
    "print(*start_point)"
   ]
  },
  {
   "cell_type": "code",
   "execution_count": 11,
   "id": "ad63a0b8",
   "metadata": {},
   "outputs": [
    {
     "data": {
      "text/plain": [
       "53"
      ]
     },
     "execution_count": 11,
     "metadata": {},
     "output_type": "execute_result"
    }
   ],
   "source": [
    "len(start_point)"
   ]
  },
  {
   "cell_type": "markdown",
   "id": "9120819a",
   "metadata": {},
   "source": [
    "# FIBONACCI GENERATOR"
   ]
  },
  {
   "cell_type": "code",
   "execution_count": 27,
   "id": "580c6b94",
   "metadata": {},
   "outputs": [
    {
     "name": "stdout",
     "output_type": "stream",
     "text": [
      "Enter the two start point numbers separated by comma>>> 50,51\n",
      "Enter the desired length of the fibonacci series>>> 10\n",
      "[50, 51, 101, 152, 253, 405, 658, 1063, 1721, 2784, 4505, 7289, 11794]\n"
     ]
    }
   ],
   "source": [
    "# input the start points\n",
    "def fibo_gen():\n",
    "    start_points = input(\"Enter the two start point numbers separated by comma>>> \")\n",
    "    \n",
    "    fibo_series = start_points.split(\",\")\n",
    "    fibo_series = [int(i) for i in fibo_series]\n",
    "    series_length = int(input(\"Enter the desired length of the fibonacci series>>> \"))\n",
    "    for i in range(series_length + 1):\n",
    "        nn = fibo_series[-1] + fibo_series[-2]\n",
    "        fibo_series.append(nn)\n",
    "    print(fibo_series)\n",
    "    \n",
    "try:\n",
    "    fibo_gen()\n",
    "except:\n",
    "    print(\"All numbers must be in figure.\\nThe length must be greater than 2.\")\n",
    "    fibo_gen()"
   ]
  },
  {
   "cell_type": "code",
   "execution_count": null,
   "id": "6b8ec158",
   "metadata": {},
   "outputs": [],
   "source": []
  }
 ],
 "metadata": {
  "kernelspec": {
   "display_name": "Python 3 (ipykernel)",
   "language": "python",
   "name": "python3"
  },
  "language_info": {
   "codemirror_mode": {
    "name": "ipython",
    "version": 3
   },
   "file_extension": ".py",
   "mimetype": "text/x-python",
   "name": "python",
   "nbconvert_exporter": "python",
   "pygments_lexer": "ipython3",
   "version": "3.11.1"
  }
 },
 "nbformat": 4,
 "nbformat_minor": 5
}
