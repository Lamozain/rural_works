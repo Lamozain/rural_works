{
 "cells": [
  {
   "cell_type": "code",
   "execution_count": 1,
   "id": "28bd08e2",
   "metadata": {},
   "outputs": [
    {
     "name": "stdout",
     "output_type": "stream",
     "text": [
      "Welcome to my play arena\n",
      "What shoudl we call you for the time being >>>Ameenah\n",
      "Welcome once again Ameenah\n"
     ]
    }
   ],
   "source": [
    "print('Welcome to my play arena')\n",
    "name = input('What shoudl we call you for the time being >>>')\n",
    "print('Welcome once again', name)"
   ]
  },
  {
   "cell_type": "code",
   "execution_count": null,
   "id": "721fd036",
   "metadata": {},
   "outputs": [],
   "source": []
  }
 ],
 "metadata": {
  "kernelspec": {
   "display_name": "Python 3 (ipykernel)",
   "language": "python",
   "name": "python3"
  },
  "language_info": {
   "codemirror_mode": {
    "name": "ipython",
    "version": 3
   },
   "file_extension": ".py",
   "mimetype": "text/x-python",
   "name": "python",
   "nbconvert_exporter": "python",
   "pygments_lexer": "ipython3",
   "version": "3.11.1"
  }
 },
 "nbformat": 4,
 "nbformat_minor": 5
}
