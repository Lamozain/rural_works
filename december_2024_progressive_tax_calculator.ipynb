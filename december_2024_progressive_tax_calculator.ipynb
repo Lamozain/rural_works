{
 "cells": [
  {
   "cell_type": "markdown",
   "id": "a92f95fa",
   "metadata": {},
   "source": [
    "## Inheritance Progressive Tax Calculator"
   ]
  },
  {
   "cell_type": "markdown",
   "id": "868e7d5b",
   "metadata": {},
   "source": [
    "### Old percentages [Military Era]"
   ]
  },
  {
   "cell_type": "code",
   "execution_count": 13,
   "id": "3f5aacd1",
   "metadata": {},
   "outputs": [],
   "source": [
    "# Old percentages [Military Era]\n",
    "def calculate_tax(income):  \n",
    "    tax = 0  \n",
    "    if income <= 100000:  \n",
    "        tax = 0\n",
    "        print(\"Your tax is\", str(tax))\n",
    "    elif income <= 250000:  \n",
    "        tax = (income - 100000) * 0.10\n",
    "        print(\"Your tax is\", str(tax))\n",
    "    elif income <= 400000:  \n",
    "        tax = (income - 250000) * 0.20 + (250000 - 100000) * 0.10\n",
    "        print(\"Your tax is\", str(tax))\n",
    "    elif income <= 750000:  \n",
    "        tax = (income - 400000) * 0.30 + (250000 - 100000) * 0.10\n",
    "        print(\"Your tax is\", str(tax))\n",
    "    elif income <= 1250000:  \n",
    "        tax = (income - 750000) * 0.40 + (250000 - 100000) * 0.10\n",
    "        print(\"Your tax is\", str(tax))\n",
    "    elif income <= 2250000:  \n",
    "        tax = (income - 1250000) * 0.50 + (250000 - 100000) * 0.10\n",
    "        print(\"Your tax is\", str(tax))\n",
    "    else:  \n",
    "        tax = (income - 2250000) * 0.60 + (2250000 - 1250000) * 0.50 + (1125000 - 750000) * 0.40 + (750000 - 400000) * 0.30 + (400000 - 15000) * 0.20 + (250000 - 100000) * 0.10\n",
    "        print(\"Your tax is\", str(tax))\n",
    "    return tax  \n",
    "\n",
    "def main():  \n",
    "    income = float(input(\"Enter the annual income: \"))  \n",
    "    tax_owed = calculate_tax(income)  \n",
    "    print(f\"The tax owed on an income of N{income} is: N{tax_owed:.2f}\")  \n",
    "\n",
    "#if _name_ == \"_main_\": \n",
    "   # main()\n"
   ]
  },
  {
   "cell_type": "code",
   "execution_count": 17,
   "id": "78e3174b",
   "metadata": {},
   "outputs": [
    {
     "name": "stdout",
     "output_type": "stream",
     "text": [
      "Enter the annual income: 2500000\n",
      "Your tax is 997000.0\n",
      "The tax owed on an income of N2500000.0 is: N997000.00\n"
     ]
    }
   ],
   "source": [
    "main()"
   ]
  },
  {
   "cell_type": "markdown",
   "id": "c3434aee",
   "metadata": {},
   "source": [
    "### New percentages [Proposed in Civilian Era - 2024]"
   ]
  },
  {
   "cell_type": "code",
   "execution_count": 21,
   "id": "36947130",
   "metadata": {},
   "outputs": [],
   "source": [
    "# New percentages [Proposed in Civilian Era - 2024]\n",
    "def calculate_tax(income):  \n",
    "    tax = 0  \n",
    "    if income <= 800000:  \n",
    "        tax = 0\n",
    "        print(\"Your tax is\", str(tax))\n",
    "    elif income <= 3000000:  \n",
    "        tax = (income - 800000) * 0.15\n",
    "        print(\"Your tax is\", str(tax))\n",
    "    elif income <= 12000000:  \n",
    "        tax = (income - 3000000) * 0.18 + (3000000 - 800000) * 0.15\n",
    "        print(\"Your tax is\", str(tax))\n",
    "    elif income <= 25000000:  \n",
    "        tax = (income - 12000000) * 0.21 + (3000000 - 800000) * 0.15\n",
    "        print(\"Your tax is\", str(tax))\n",
    "    elif income <= 50000000:  \n",
    "        tax = (income - 25000000) * 0.23 + (3000000 - 800000) * 0.15\n",
    "        print(\"Your tax is\", str(tax))\n",
    "    else:  \n",
    "        tax = (income - 50000000) * 0.25 + (50000000 - 25000000) * 0.23 + (25000000 - 12000000) * 0.21 + (12000000 - 3000000) * 0.18 + (3000000 - 800000) * 0.15\n",
    "        print(\"Your tax is\", str(tax))\n",
    "    return tax  \n",
    "\n",
    "def main():  \n",
    "    income = float(input(\"Enter the annual income: \"))  \n",
    "    tax_owed = calculate_tax(income)\n",
    "    available_money = income - tax_owed\n",
    "    print(f\"The tax owed on an income of N{income} is: N{tax_owed:.2f}\") \n",
    "    print(f\"The money available to spend is: N{available_money:.2f}\")\n",
    "\n",
    "#if _name_ == \"_main_\": \n",
    "   # main()\n"
   ]
  },
  {
   "cell_type": "code",
   "execution_count": 22,
   "id": "177fb545",
   "metadata": {},
   "outputs": [
    {
     "name": "stdout",
     "output_type": "stream",
     "text": [
      "Enter the annual income: 2500000\n",
      "Your tax is 255000.0\n",
      "The tax owed on an income of N2500000.0 is: N255000.00\n",
      "The money available to spend is: N2245000.00\n"
     ]
    }
   ],
   "source": [
    "main()"
   ]
  },
  {
   "cell_type": "code",
   "execution_count": null,
   "id": "1fd5082f",
   "metadata": {},
   "outputs": [],
   "source": []
  }
 ],
 "metadata": {
  "kernelspec": {
   "display_name": "Python 3 (ipykernel)",
   "language": "python",
   "name": "python3"
  },
  "language_info": {
   "codemirror_mode": {
    "name": "ipython",
    "version": 3
   },
   "file_extension": ".py",
   "mimetype": "text/x-python",
   "name": "python",
   "nbconvert_exporter": "python",
   "pygments_lexer": "ipython3",
   "version": "3.11.1"
  }
 },
 "nbformat": 4,
 "nbformat_minor": 5
}
